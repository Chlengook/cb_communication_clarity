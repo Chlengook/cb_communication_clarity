{
 "cells": [
  {
   "cell_type": "code",
   "execution_count": null,
   "metadata": {},
   "outputs": [],
   "source": [
    "#Это простой робот для оценки удобочитаемости по формуле из статьи \n",
    "#Evstigneeva, A. and Sidorovskiy, M. (2021). Assessment of Clarity of Bank of Russia Monetary Policy Communication by Neural Network Approach. Russian Journal of Money and Finance, 80(3), pp. 3–33. \n",
    "#Он принимает текст в блокноте и возвращает оценку удобочитаемости от 0 (очень плохая удобочитаемость) до 10 (отличная удобочитаемость, понятно детям), рассчитанную на основе формулы для средней длины слов и предложений"
   ]
  },
  {
   "cell_type": "code",
   "execution_count": 10,
   "metadata": {},
   "outputs": [],
   "source": [
    "#необходимые библиотеки \n",
    "\n",
    "import textstat\n",
    "import nltk\n",
    "from nltk.tokenize import sent_tokenize\n",
    "import string \n"
   ]
  },
  {
   "cell_type": "code",
   "execution_count": 11,
   "metadata": {},
   "outputs": [
    {
     "name": "stdout",
     "output_type": "stream",
     "text": [
      "В Рязани обсудили лучшие практики повышения уровня финансовой грамотности. О своих наработках рассказали воспитатели детских садов, педагоги школ, колледжей и техникумов. Круглый стол прошел в рязанском отделении Банка России.\n",
      "\n",
      "Участники делились новациями. Рязанские воспитатели и педагоги проводят квесты, изучают тему предпринимательства, рисуют с учениками афиши по книгам, ищут ответы на загадки и ребусы. Например, в Скопине воспитатель детского сада рассказывает малышам, какой бывает реклама. А учитель из школы №75 г. Рязань снимает с детьми буктрейлеры — видеоролики, которые кратко описывают сюжет книги, делая акцент на финансовых задачах героев.\n",
      "\n",
      "С сентября 2022 года элементы финансовой грамотности включены в занятия по математике, окружающему миру, обществознанию и географии. При этом педагоги других специальностей также используют тему финансов на занятиях. Так, учитель английского языка из Ряжского колледжа имени Героя Советского Союза А.М. Серебрякова Наталья Тесликова рассказала, что вводит в программу изучения английского языка финансовую лексику, обсуждает со студентами, как они могут анализировать расходы и доходы, сравнивает траты молодых людей в разных странах. «Студенты учатся уважать деньги и правильно ими пользоваться, понимать свои реальные потребности и отличать их от сиюминутных желаний. В ходе урока происходит не только закрепление теоретических знаний, но и развитие критического мышления, навыков анализа и умения вести публичные выступления», — считает педагог.\n",
      "\n",
      "Во время круглого стола педагоги отметили, что помимо собственных наработок активно используют материалы, которые подготовил Банк России. В учебное время востребованы онлайн-уроки по финансовой грамотности, а в каникулы в детских пришкольных и оздоровительных лагерях проводят игры проекта «Дол-игра».\n",
      "\n",
      "«Приятно видеть интерес к теме финансовой грамотности. Ведь главная задача, которую мы решаем совместно с педагогическим сообществом, — формирование у молодого поколения не просто знаний, а полноценной финансовой культуры. Уверен, что круглый стол даст новый импульс для обмена идеями и создания новых проектов», — говорит управляющий рязанским отделением Банка России Сергей Кузнецов.\n"
     ]
    }
   ],
   "source": [
    "Testing_text = open(\"path\\\\file_name.txt\", 'r')\n",
    "text = Testing_text.read()\n",
    "\n",
    "print(text)"
   ]
  },
  {
   "cell_type": "code",
   "execution_count": 12,
   "metadata": {},
   "outputs": [],
   "source": [
    "def ARI(text):\n",
    "    text = text.lower()\n",
    "    \n",
    "    words = textstat.lexicon_count(text, removepunct=True)\n",
    "    number_of_sentences = sent_tokenize(text)\n",
    "    sentences = len(number_of_sentences)\n",
    "    average_sentence_length = float(words / sentences)\n",
    "\n",
    "    text = ''.join([i for i in text if not i.isdigit()])\n",
    "    for c in string.punctuation:\n",
    "        text = text.replace(c,\"\")\n",
    "    words = textstat.lexicon_count(text)  \n",
    "    text1 = ''.join(e for e in text if e.isalnum())\n",
    "    letters = len(text1)\n",
    "    average_word_length = float(letters / words)\n",
    "    \n",
    "    result = 19.025 - 2.184*average_word_length - 0.048*average_sentence_length\n",
    "    \n",
    "    return result "
   ]
  },
  {
   "cell_type": "code",
   "execution_count": 13,
   "metadata": {},
   "outputs": [
    {
     "data": {
      "text/plain": [
       "4.361728950403688"
      ]
     },
     "execution_count": 13,
     "metadata": {},
     "output_type": "execute_result"
    }
   ],
   "source": [
    "ARI(text)"
   ]
  },
  {
   "cell_type": "code",
   "execution_count": null,
   "metadata": {},
   "outputs": [],
   "source": []
  }
 ],
 "metadata": {
  "interpreter": {
   "hash": "fd5567b1dcfb899d08862ae1b0194f383bedba8a1f29537370c3019d28c1e2bd"
  },
  "kernelspec": {
   "display_name": "Python 3.7.9 64-bit",
   "language": "python",
   "name": "python3"
  },
  "language_info": {
   "codemirror_mode": {
    "name": "ipython",
    "version": 3
   },
   "file_extension": ".py",
   "mimetype": "text/x-python",
   "name": "python",
   "nbconvert_exporter": "python",
   "pygments_lexer": "ipython3",
   "version": "3.7.9"
  },
  "orig_nbformat": 4
 },
 "nbformat": 4,
 "nbformat_minor": 2
}
